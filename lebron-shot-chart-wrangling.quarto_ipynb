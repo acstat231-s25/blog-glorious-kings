{
  "cells": [
    {
      "cell_type": "markdown",
      "metadata": {},
      "source": [
        "---\n",
        "title: \"NBA Shot Chart Scraper\"\n",
        "author: Paul Grajzl\n",
        "format: html\n",
        "jupyter: python3\n",
        "---"
      ],
      "id": "f076cb9d"
    },
    {
      "cell_type": "code",
      "metadata": {},
      "source": [
        "import os\n",
        "import pandas as pd\n",
        "from nba_api.stats.endpoints import shotchartdetail\n",
        "from nba_api.stats.static import players\n",
        "from time import sleep\n",
        "from unidecode import unidecode\n",
        "\n",
        "# --- Define LeBron's full career seasons ---\n",
        "lebron_seasons = [f\"{year}-{str(year + 1)[-2:]}\" for year in range(2003, 2024)]\n",
        "\n",
        "# --- Normalize and fetch player ID ---\n",
        "def get_lebron_id():\n",
        "    all_players = players.get_players()\n",
        "    for p in all_players:\n",
        "        if unidecode(p['full_name']).lower() == \"lebron james\":\n",
        "            return p['id']\n",
        "    raise ValueError(\"Could not find LeBron James in player database.\")\n",
        "\n",
        "# --- Create output directory ---\n",
        "lebron_folder = \"LeBron_James\"\n",
        "os.makedirs(lebron_folder, exist_ok=True)\n",
        "\n",
        "# --- Download shot data for each season ---\n",
        "lebron_id = get_lebron_id()\n",
        "\n",
        "for season in lebron_seasons:\n",
        "    try:\n",
        "        shots = shotchartdetail.ShotChartDetail(\n",
        "            team_id=0,  # all teams he's played for\n",
        "            player_id=lebron_id,\n",
        "            season_type_all_star=\"Regular Season\",\n",
        "            season_nullable=season\n",
        "        )\n",
        "        df = shots.get_data_frames()[0]\n",
        "\n",
        "        if not df.empty:\n",
        "            filepath = os.path.join(lebron_folder, f\"{season}.csv\")\n",
        "            df.to_csv(filepath, index=False)\n",
        "            print(f\"Saved LeBron James - {season}\")\n",
        "\n",
        "        sleep(1)  # throttle to avoid API issues\n",
        "    except Exception as e:\n",
        "        print(f\"Error fetching data for {season}: {e}\")\n",
        "        sleep(2)\n"
      ],
      "id": "97680cb5",
      "execution_count": null,
      "outputs": []
    }
  ],
  "metadata": {
    "kernelspec": {
      "display_name": "Python 3",
      "language": "python",
      "name": "python3"
    }
  },
  "nbformat": 4,
  "nbformat_minor": 5
}